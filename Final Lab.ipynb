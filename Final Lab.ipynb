{
 "cells": [
  {
   "cell_type": "markdown",
   "id": "2651fb55",
   "metadata": {},
   "source": [
    "# Bahamas's COVID-19 Data in Python"
   ]
  },
  {
   "cell_type": "markdown",
   "id": "da803bd5",
   "metadata": {},
   "source": [
    "## Data Source"
   ]
  },
  {
   "cell_type": "markdown",
   "id": "21c71931",
   "metadata": {},
   "source": [
    "The data is downloaded from [European Centre for Disease Prevention and Control](https://www.ecdc.europa.eu/en/publications-data/download-todays-data-geographic-distribution-covid-19-cases-worldwide). Upload the data to an S3 bucket, and import the necessary python libraries."
   ]
  },
  {
   "cell_type": "markdown",
   "id": "f964e0c4",
   "metadata": {},
   "source": [
    "## COVID-19 Background Info "
   ]
  },
  {
   "cell_type": "markdown",
   "id": "0e9c2e78",
   "metadata": {},
   "source": [
    "Coronavirus disease 2019 (COVID-19) is an infectious illness caused by the coronavirus that causes severe acute respiratory syndrome. This disease has affected numerous people around the world causing everything to be shutdown creating a pandemic. "
   ]
  },
  {
   "cell_type": "code",
   "execution_count": 5,
   "id": "08e299e6",
   "metadata": {},
   "outputs": [],
   "source": [
    "%matplotlib inline\n",
    "import pandas"
   ]
  },
  {
   "cell_type": "code",
   "execution_count": 6,
   "id": "5c5394ff",
   "metadata": {
    "scrolled": true
   },
   "outputs": [
    {
     "data": {
      "text/html": [
       "<div>\n",
       "<style scoped>\n",
       "    .dataframe tbody tr th:only-of-type {\n",
       "        vertical-align: middle;\n",
       "    }\n",
       "\n",
       "    .dataframe tbody tr th {\n",
       "        vertical-align: top;\n",
       "    }\n",
       "\n",
       "    .dataframe thead th {\n",
       "        text-align: right;\n",
       "    }\n",
       "</style>\n",
       "<table border=\"1\" class=\"dataframe\">\n",
       "  <thead>\n",
       "    <tr style=\"text-align: right;\">\n",
       "      <th></th>\n",
       "      <th>dateRep</th>\n",
       "      <th>day</th>\n",
       "      <th>month</th>\n",
       "      <th>year</th>\n",
       "      <th>cases</th>\n",
       "      <th>deaths</th>\n",
       "      <th>countriesAndTerritories</th>\n",
       "      <th>geoId</th>\n",
       "      <th>countryterritoryCode</th>\n",
       "      <th>popData2019</th>\n",
       "      <th>continentExp</th>\n",
       "      <th>Cumulative_number_for_14_days_of_COVID-19_cases_per_100000</th>\n",
       "    </tr>\n",
       "  </thead>\n",
       "  <tbody>\n",
       "    <tr>\n",
       "      <th>0</th>\n",
       "      <td>14/12/2020</td>\n",
       "      <td>14</td>\n",
       "      <td>12</td>\n",
       "      <td>2020</td>\n",
       "      <td>746</td>\n",
       "      <td>6</td>\n",
       "      <td>Afghanistan</td>\n",
       "      <td>AF</td>\n",
       "      <td>AFG</td>\n",
       "      <td>38041757.0</td>\n",
       "      <td>Asia</td>\n",
       "      <td>9.013779</td>\n",
       "    </tr>\n",
       "    <tr>\n",
       "      <th>1</th>\n",
       "      <td>13/12/2020</td>\n",
       "      <td>13</td>\n",
       "      <td>12</td>\n",
       "      <td>2020</td>\n",
       "      <td>298</td>\n",
       "      <td>9</td>\n",
       "      <td>Afghanistan</td>\n",
       "      <td>AF</td>\n",
       "      <td>AFG</td>\n",
       "      <td>38041757.0</td>\n",
       "      <td>Asia</td>\n",
       "      <td>7.052776</td>\n",
       "    </tr>\n",
       "    <tr>\n",
       "      <th>2</th>\n",
       "      <td>2020-12-12 00:00:00</td>\n",
       "      <td>12</td>\n",
       "      <td>12</td>\n",
       "      <td>2020</td>\n",
       "      <td>113</td>\n",
       "      <td>11</td>\n",
       "      <td>Afghanistan</td>\n",
       "      <td>AF</td>\n",
       "      <td>AFG</td>\n",
       "      <td>38041757.0</td>\n",
       "      <td>Asia</td>\n",
       "      <td>6.868768</td>\n",
       "    </tr>\n",
       "    <tr>\n",
       "      <th>3</th>\n",
       "      <td>2020-11-12 00:00:00</td>\n",
       "      <td>11</td>\n",
       "      <td>12</td>\n",
       "      <td>2020</td>\n",
       "      <td>63</td>\n",
       "      <td>10</td>\n",
       "      <td>Afghanistan</td>\n",
       "      <td>AF</td>\n",
       "      <td>AFG</td>\n",
       "      <td>38041757.0</td>\n",
       "      <td>Asia</td>\n",
       "      <td>7.134266</td>\n",
       "    </tr>\n",
       "    <tr>\n",
       "      <th>4</th>\n",
       "      <td>2020-10-12 00:00:00</td>\n",
       "      <td>10</td>\n",
       "      <td>12</td>\n",
       "      <td>2020</td>\n",
       "      <td>202</td>\n",
       "      <td>16</td>\n",
       "      <td>Afghanistan</td>\n",
       "      <td>AF</td>\n",
       "      <td>AFG</td>\n",
       "      <td>38041757.0</td>\n",
       "      <td>Asia</td>\n",
       "      <td>6.968658</td>\n",
       "    </tr>\n",
       "    <tr>\n",
       "      <th>5</th>\n",
       "      <td>2020-09-12 00:00:00</td>\n",
       "      <td>9</td>\n",
       "      <td>12</td>\n",
       "      <td>2020</td>\n",
       "      <td>135</td>\n",
       "      <td>13</td>\n",
       "      <td>Afghanistan</td>\n",
       "      <td>AF</td>\n",
       "      <td>AFG</td>\n",
       "      <td>38041757.0</td>\n",
       "      <td>Asia</td>\n",
       "      <td>6.963401</td>\n",
       "    </tr>\n",
       "    <tr>\n",
       "      <th>6</th>\n",
       "      <td>2020-08-12 00:00:00</td>\n",
       "      <td>8</td>\n",
       "      <td>12</td>\n",
       "      <td>2020</td>\n",
       "      <td>200</td>\n",
       "      <td>6</td>\n",
       "      <td>Afghanistan</td>\n",
       "      <td>AF</td>\n",
       "      <td>AFG</td>\n",
       "      <td>38041757.0</td>\n",
       "      <td>Asia</td>\n",
       "      <td>7.094835</td>\n",
       "    </tr>\n",
       "    <tr>\n",
       "      <th>7</th>\n",
       "      <td>2020-07-12 00:00:00</td>\n",
       "      <td>7</td>\n",
       "      <td>12</td>\n",
       "      <td>2020</td>\n",
       "      <td>210</td>\n",
       "      <td>26</td>\n",
       "      <td>Afghanistan</td>\n",
       "      <td>AF</td>\n",
       "      <td>AFG</td>\n",
       "      <td>38041757.0</td>\n",
       "      <td>Asia</td>\n",
       "      <td>7.215755</td>\n",
       "    </tr>\n",
       "    <tr>\n",
       "      <th>8</th>\n",
       "      <td>2020-06-12 00:00:00</td>\n",
       "      <td>6</td>\n",
       "      <td>12</td>\n",
       "      <td>2020</td>\n",
       "      <td>234</td>\n",
       "      <td>10</td>\n",
       "      <td>Afghanistan</td>\n",
       "      <td>AF</td>\n",
       "      <td>AFG</td>\n",
       "      <td>38041757.0</td>\n",
       "      <td>Asia</td>\n",
       "      <td>7.326160</td>\n",
       "    </tr>\n",
       "    <tr>\n",
       "      <th>9</th>\n",
       "      <td>2020-05-12 00:00:00</td>\n",
       "      <td>5</td>\n",
       "      <td>12</td>\n",
       "      <td>2020</td>\n",
       "      <td>235</td>\n",
       "      <td>18</td>\n",
       "      <td>Afghanistan</td>\n",
       "      <td>AF</td>\n",
       "      <td>AFG</td>\n",
       "      <td>38041757.0</td>\n",
       "      <td>Asia</td>\n",
       "      <td>7.115865</td>\n",
       "    </tr>\n",
       "  </tbody>\n",
       "</table>\n",
       "</div>"
      ],
      "text/plain": [
       "               dateRep  day  month  year  cases  deaths  \\\n",
       "0           14/12/2020   14     12  2020    746       6   \n",
       "1           13/12/2020   13     12  2020    298       9   \n",
       "2  2020-12-12 00:00:00   12     12  2020    113      11   \n",
       "3  2020-11-12 00:00:00   11     12  2020     63      10   \n",
       "4  2020-10-12 00:00:00   10     12  2020    202      16   \n",
       "5  2020-09-12 00:00:00    9     12  2020    135      13   \n",
       "6  2020-08-12 00:00:00    8     12  2020    200       6   \n",
       "7  2020-07-12 00:00:00    7     12  2020    210      26   \n",
       "8  2020-06-12 00:00:00    6     12  2020    234      10   \n",
       "9  2020-05-12 00:00:00    5     12  2020    235      18   \n",
       "\n",
       "  countriesAndTerritories geoId countryterritoryCode  popData2019  \\\n",
       "0             Afghanistan    AF                  AFG   38041757.0   \n",
       "1             Afghanistan    AF                  AFG   38041757.0   \n",
       "2             Afghanistan    AF                  AFG   38041757.0   \n",
       "3             Afghanistan    AF                  AFG   38041757.0   \n",
       "4             Afghanistan    AF                  AFG   38041757.0   \n",
       "5             Afghanistan    AF                  AFG   38041757.0   \n",
       "6             Afghanistan    AF                  AFG   38041757.0   \n",
       "7             Afghanistan    AF                  AFG   38041757.0   \n",
       "8             Afghanistan    AF                  AFG   38041757.0   \n",
       "9             Afghanistan    AF                  AFG   38041757.0   \n",
       "\n",
       "  continentExp  Cumulative_number_for_14_days_of_COVID-19_cases_per_100000  \n",
       "0         Asia                                           9.013779           \n",
       "1         Asia                                           7.052776           \n",
       "2         Asia                                           6.868768           \n",
       "3         Asia                                           7.134266           \n",
       "4         Asia                                           6.968658           \n",
       "5         Asia                                           6.963401           \n",
       "6         Asia                                           7.094835           \n",
       "7         Asia                                           7.215755           \n",
       "8         Asia                                           7.326160           \n",
       "9         Asia                                           7.115865           "
      ]
     },
     "execution_count": 6,
     "metadata": {},
     "output_type": "execute_result"
    }
   ],
   "source": [
    "df = pandas.read_excel('s3://ia241-2-spring2022-abney/covid_data.xls')\n",
    "df[:10] #the top 10 rows"
   ]
  },
  {
   "cell_type": "markdown",
   "id": "fe3d2622",
   "metadata": {},
   "source": [
    "Here are the first 10 pieces of data from the Excel chart."
   ]
  },
  {
   "cell_type": "markdown",
   "id": "d3bb4cfd",
   "metadata": {},
   "source": [
    "## Bahamas's COVID-19 Data"
   ]
  },
  {
   "cell_type": "code",
   "execution_count": 10,
   "id": "469eaa0e",
   "metadata": {},
   "outputs": [
    {
     "data": {
      "text/html": [
       "<div>\n",
       "<style scoped>\n",
       "    .dataframe tbody tr th:only-of-type {\n",
       "        vertical-align: middle;\n",
       "    }\n",
       "\n",
       "    .dataframe tbody tr th {\n",
       "        vertical-align: top;\n",
       "    }\n",
       "\n",
       "    .dataframe thead th {\n",
       "        text-align: right;\n",
       "    }\n",
       "</style>\n",
       "<table border=\"1\" class=\"dataframe\">\n",
       "  <thead>\n",
       "    <tr style=\"text-align: right;\">\n",
       "      <th></th>\n",
       "      <th>dateRep</th>\n",
       "      <th>day</th>\n",
       "      <th>month</th>\n",
       "      <th>year</th>\n",
       "      <th>cases</th>\n",
       "      <th>deaths</th>\n",
       "      <th>countriesAndTerritories</th>\n",
       "      <th>geoId</th>\n",
       "      <th>countryterritoryCode</th>\n",
       "      <th>popData2019</th>\n",
       "      <th>continentExp</th>\n",
       "      <th>Cumulative_number_for_14_days_of_COVID-19_cases_per_100000</th>\n",
       "    </tr>\n",
       "  </thead>\n",
       "  <tbody>\n",
       "    <tr>\n",
       "      <th>3977</th>\n",
       "      <td>14/12/2020</td>\n",
       "      <td>14</td>\n",
       "      <td>12</td>\n",
       "      <td>2020</td>\n",
       "      <td>15</td>\n",
       "      <td>0</td>\n",
       "      <td>Bahamas</td>\n",
       "      <td>BS</td>\n",
       "      <td>BHS</td>\n",
       "      <td>389486.0</td>\n",
       "      <td>America</td>\n",
       "      <td>45.701258</td>\n",
       "    </tr>\n",
       "    <tr>\n",
       "      <th>3978</th>\n",
       "      <td>13/12/2020</td>\n",
       "      <td>13</td>\n",
       "      <td>12</td>\n",
       "      <td>2020</td>\n",
       "      <td>11</td>\n",
       "      <td>0</td>\n",
       "      <td>Bahamas</td>\n",
       "      <td>BS</td>\n",
       "      <td>BHS</td>\n",
       "      <td>389486.0</td>\n",
       "      <td>America</td>\n",
       "      <td>41.850028</td>\n",
       "    </tr>\n",
       "    <tr>\n",
       "      <th>3979</th>\n",
       "      <td>2020-12-12 00:00:00</td>\n",
       "      <td>12</td>\n",
       "      <td>12</td>\n",
       "      <td>2020</td>\n",
       "      <td>63</td>\n",
       "      <td>0</td>\n",
       "      <td>Bahamas</td>\n",
       "      <td>BS</td>\n",
       "      <td>BHS</td>\n",
       "      <td>389486.0</td>\n",
       "      <td>America</td>\n",
       "      <td>39.025793</td>\n",
       "    </tr>\n",
       "    <tr>\n",
       "      <th>3980</th>\n",
       "      <td>2020-11-12 00:00:00</td>\n",
       "      <td>11</td>\n",
       "      <td>12</td>\n",
       "      <td>2020</td>\n",
       "      <td>0</td>\n",
       "      <td>0</td>\n",
       "      <td>Bahamas</td>\n",
       "      <td>BS</td>\n",
       "      <td>BHS</td>\n",
       "      <td>389486.0</td>\n",
       "      <td>America</td>\n",
       "      <td>26.445110</td>\n",
       "    </tr>\n",
       "    <tr>\n",
       "      <th>3981</th>\n",
       "      <td>2020-10-12 00:00:00</td>\n",
       "      <td>10</td>\n",
       "      <td>12</td>\n",
       "      <td>2020</td>\n",
       "      <td>6</td>\n",
       "      <td>0</td>\n",
       "      <td>Bahamas</td>\n",
       "      <td>BS</td>\n",
       "      <td>BHS</td>\n",
       "      <td>389486.0</td>\n",
       "      <td>America</td>\n",
       "      <td>29.782842</td>\n",
       "    </tr>\n",
       "    <tr>\n",
       "      <th>3982</th>\n",
       "      <td>2020-09-12 00:00:00</td>\n",
       "      <td>9</td>\n",
       "      <td>12</td>\n",
       "      <td>2020</td>\n",
       "      <td>0</td>\n",
       "      <td>0</td>\n",
       "      <td>Bahamas</td>\n",
       "      <td>BS</td>\n",
       "      <td>BHS</td>\n",
       "      <td>389486.0</td>\n",
       "      <td>America</td>\n",
       "      <td>42.620274</td>\n",
       "    </tr>\n",
       "    <tr>\n",
       "      <th>3983</th>\n",
       "      <td>2020-08-12 00:00:00</td>\n",
       "      <td>8</td>\n",
       "      <td>12</td>\n",
       "      <td>2020</td>\n",
       "      <td>0</td>\n",
       "      <td>0</td>\n",
       "      <td>Bahamas</td>\n",
       "      <td>BS</td>\n",
       "      <td>BHS</td>\n",
       "      <td>389486.0</td>\n",
       "      <td>America</td>\n",
       "      <td>42.620274</td>\n",
       "    </tr>\n",
       "    <tr>\n",
       "      <th>3984</th>\n",
       "      <td>2020-07-12 00:00:00</td>\n",
       "      <td>7</td>\n",
       "      <td>12</td>\n",
       "      <td>2020</td>\n",
       "      <td>9</td>\n",
       "      <td>0</td>\n",
       "      <td>Bahamas</td>\n",
       "      <td>BS</td>\n",
       "      <td>BHS</td>\n",
       "      <td>389486.0</td>\n",
       "      <td>America</td>\n",
       "      <td>42.620274</td>\n",
       "    </tr>\n",
       "    <tr>\n",
       "      <th>3985</th>\n",
       "      <td>2020-06-12 00:00:00</td>\n",
       "      <td>6</td>\n",
       "      <td>12</td>\n",
       "      <td>2020</td>\n",
       "      <td>5</td>\n",
       "      <td>0</td>\n",
       "      <td>Bahamas</td>\n",
       "      <td>BS</td>\n",
       "      <td>BHS</td>\n",
       "      <td>389486.0</td>\n",
       "      <td>America</td>\n",
       "      <td>44.931012</td>\n",
       "    </tr>\n",
       "    <tr>\n",
       "      <th>3986</th>\n",
       "      <td>2020-05-12 00:00:00</td>\n",
       "      <td>5</td>\n",
       "      <td>12</td>\n",
       "      <td>2020</td>\n",
       "      <td>0</td>\n",
       "      <td>0</td>\n",
       "      <td>Bahamas</td>\n",
       "      <td>BS</td>\n",
       "      <td>BHS</td>\n",
       "      <td>389486.0</td>\n",
       "      <td>America</td>\n",
       "      <td>50.836230</td>\n",
       "    </tr>\n",
       "  </tbody>\n",
       "</table>\n",
       "</div>"
      ],
      "text/plain": [
       "                  dateRep  day  month  year  cases  deaths  \\\n",
       "3977           14/12/2020   14     12  2020     15       0   \n",
       "3978           13/12/2020   13     12  2020     11       0   \n",
       "3979  2020-12-12 00:00:00   12     12  2020     63       0   \n",
       "3980  2020-11-12 00:00:00   11     12  2020      0       0   \n",
       "3981  2020-10-12 00:00:00   10     12  2020      6       0   \n",
       "3982  2020-09-12 00:00:00    9     12  2020      0       0   \n",
       "3983  2020-08-12 00:00:00    8     12  2020      0       0   \n",
       "3984  2020-07-12 00:00:00    7     12  2020      9       0   \n",
       "3985  2020-06-12 00:00:00    6     12  2020      5       0   \n",
       "3986  2020-05-12 00:00:00    5     12  2020      0       0   \n",
       "\n",
       "     countriesAndTerritories geoId countryterritoryCode  popData2019  \\\n",
       "3977                 Bahamas    BS                  BHS     389486.0   \n",
       "3978                 Bahamas    BS                  BHS     389486.0   \n",
       "3979                 Bahamas    BS                  BHS     389486.0   \n",
       "3980                 Bahamas    BS                  BHS     389486.0   \n",
       "3981                 Bahamas    BS                  BHS     389486.0   \n",
       "3982                 Bahamas    BS                  BHS     389486.0   \n",
       "3983                 Bahamas    BS                  BHS     389486.0   \n",
       "3984                 Bahamas    BS                  BHS     389486.0   \n",
       "3985                 Bahamas    BS                  BHS     389486.0   \n",
       "3986                 Bahamas    BS                  BHS     389486.0   \n",
       "\n",
       "     continentExp  Cumulative_number_for_14_days_of_COVID-19_cases_per_100000  \n",
       "3977      America                                          45.701258           \n",
       "3978      America                                          41.850028           \n",
       "3979      America                                          39.025793           \n",
       "3980      America                                          26.445110           \n",
       "3981      America                                          29.782842           \n",
       "3982      America                                          42.620274           \n",
       "3983      America                                          42.620274           \n",
       "3984      America                                          42.620274           \n",
       "3985      America                                          44.931012           \n",
       "3986      America                                          50.836230           "
      ]
     },
     "execution_count": 10,
     "metadata": {},
     "output_type": "execute_result"
    }
   ],
   "source": [
    "Bahamas_data = df.loc[df ['countriesAndTerritories']=='Bahamas' ]\n",
    "Bahamas_data[:10] "
   ]
  },
  {
   "cell_type": "markdown",
   "id": "e16e62cb",
   "metadata": {},
   "source": [
    "A small table that displays the Bahamas's COVID-19 data collected by the ECDC. The command that was used to pull data from Excel sheet to gather the first ten data points is from the \"countriesAndTerritories\" column of the data."
   ]
  },
  {
   "cell_type": "markdown",
   "id": "21ba6a1f",
   "metadata": {},
   "source": [
    "## What are trends of COVID-19 Cases in Bahamas Over Time"
   ]
  },
  {
   "cell_type": "code",
   "execution_count": 11,
   "id": "cc161c46",
   "metadata": {},
   "outputs": [
    {
     "data": {
      "text/plain": [
       "<AxesSubplot:xlabel='month'>"
      ]
     },
     "execution_count": 11,
     "metadata": {},
     "output_type": "execute_result"
    },
    {
     "data": {
      "image/png": "[encoded data removed]",
      "text/plain": [
       "<Figure size 432x288 with 1 Axes>"
      ]
     },
     "metadata": {
      "needs_background": "light"
     },
     "output_type": "display_data"
    }
   ],
   "source": [
    "covid_cases_over_time = Bahamas_data.groupby('month').sum()['cases']\n",
    "covid_cases_over_time.plot()"
   ]
  },
  {
   "cell_type": "markdown",
   "id": "a2541f80",
   "metadata": {},
   "source": [
    "I used a line graph to illustrate the trends of COVID-19 in the Bahamas. As you can see the highest point in COVID-19 cases was in October and the lowest point was in June. "
   ]
  },
  {
   "cell_type": "markdown",
   "id": "9c8b0981",
   "metadata": {},
   "source": [
    "## What Month had the Most Deaths in the Bahamas "
   ]
  },
  {
   "cell_type": "code",
   "execution_count": 12,
   "id": "a8573ccb",
   "metadata": {},
   "outputs": [
    {
     "data": {
      "text/plain": [
       "<AxesSubplot:xlabel='month'>"
      ]
     },
     "execution_count": 12,
     "metadata": {},
     "output_type": "execute_result"
    },
    {
     "data": {
      "image/png": "[encoded data removed]",
      "text/plain": [
       "<Figure size 432x288 with 1 Axes>"
      ]
     },
     "metadata": {
      "needs_background": "light"
     },
     "output_type": "display_data"
    }
   ],
   "source": [
    "sum_cases_by_month= Bahamas_data.groupby('month').sum()['cases']\n",
    "sum_cases_by_month.plot.bar()"
   ]
  },
  {
   "cell_type": "markdown",
   "id": "6aed128d",
   "metadata": {},
   "source": [
    "The month that had the most deaths in the Bahamas is October and the month that had the lowest was June. A bar graph was the most suitable for this question to really see which months dealt with the most death."
   ]
  },
  {
   "cell_type": "markdown",
   "id": "58c8d3f2",
   "metadata": {},
   "source": [
    "## Number of Deaths Compared to the Number of Cases from COVID-19 in the Bahamas"
   ]
  },
  {
   "cell_type": "code",
   "execution_count": 13,
   "id": "cfae0f64",
   "metadata": {},
   "outputs": [
    {
     "data": {
      "text/plain": [
       "<AxesSubplot:xlabel='cases', ylabel='deaths'>"
      ]
     },
     "execution_count": 13,
     "metadata": {},
     "output_type": "execute_result"
    },
    {
     "data": {
      "image/png": "[encoded data removed]",
      "text/plain": [
       "<Figure size 432x288 with 2 Axes>"
      ]
     },
     "metadata": {
      "needs_background": "light"
     },
     "output_type": "display_data"
    }
   ],
   "source": [
    "Bahamas_data.plot.scatter(x='cases',y='deaths',c='month')"
   ]
  },
  {
   "cell_type": "markdown",
   "id": "0e5d8dc6",
   "metadata": {},
   "source": [
    "The scatter plot allowed us to compare the number of months, deaths, and cases in the Bahamas. As you can see on the scatter plot the Bahamas had some months where they didn't have any deaths. "
   ]
  },
  {
   "cell_type": "markdown",
   "id": "309c7fba",
   "metadata": {},
   "source": [
    "## Conclusion "
   ]
  },
  {
   "cell_type": "markdown",
   "id": "2d40de1b",
   "metadata": {},
   "source": [
    "A lot of the problems that I faced when doing this project really resulted in just my lack of knowledge in Python as a whole. I was having a bunch of errors in my code whihch cost me a lot time while trying to complete the project. One of the limitations that I faced and had a hard time with while doing this project was for my first question. The line graph gave me a problem because for my x-axis my lables were overlapping eachother so instead of \"dateRep\" I had to change it to \"month\" so I could get that cleaner look. "
   ]
  },
  {
   "cell_type": "code",
   "execution_count": null,
   "id": "81eaec43",
   "metadata": {},
   "outputs": [],
   "source": []
  }
 ],
 "metadata": {
  "kernelspec": {
   "display_name": "conda_python3",
   "language": "python",
   "name": "conda_python3"
  },
  "language_info": {
   "codemirror_mode": {
    "name": "ipython",
    "version": 3
   },
   "file_extension": ".py",
   "mimetype": "text/x-python",
   "name": "python",
   "nbconvert_exporter": "python",
   "pygments_lexer": "ipython3",
   "version": "3.6.13"
  }
 },
 "nbformat": 4,
 "nbformat_minor": 5
}
